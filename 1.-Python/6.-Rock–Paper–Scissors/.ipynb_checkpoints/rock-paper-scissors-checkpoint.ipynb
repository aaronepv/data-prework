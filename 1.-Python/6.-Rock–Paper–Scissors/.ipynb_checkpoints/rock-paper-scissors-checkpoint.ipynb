{
 "cells": [
  {
   "cell_type": "markdown",
   "metadata": {},
   "source": [
    "<img src=\"https://bit.ly/2VnXWr2\" width=\"100\" align=\"left\">"
   ]
  },
  {
   "cell_type": "markdown",
   "metadata": {},
   "source": [
    "# Rock, Paper & Scissors\n",
    "\n",
    "Let's play the famous game against our computer. You can check the rules [here](https://en.wikipedia.org/wiki/Rock%E2%80%93paper%E2%80%93scissors). \n",
    "\n",
    "## Task\n",
    "Create a program that imitates the playability of the well known game of rock, paper, scissors. Follow the guidelines provided.\n",
    "\n",
    "## Tools\n",
    "1. Loop: **for/while**\n",
    "2. Functions: **input(), print()...**\n",
    "3. Conditional statements: **if, elif, else**\n",
    "4. Definition of functions. Modular programming\n",
    "5. Import modules\n",
    "\n",
    "**To solve this challenge, the use of functions is recommended.**\n",
    "\n",
    "#### 1. Import the choice function of the random module."
   ]
  },
  {
   "cell_type": "code",
   "execution_count": 1,
   "metadata": {},
   "outputs": [],
   "source": [
    "import random"
   ]
  },
  {
   "cell_type": "markdown",
   "metadata": {},
   "source": [
    "#### 2. Create a list that includes the 3 possible gesture options of the game: 'rock', 'paper' or 'scissors'. Store the list in a variable called `gestures`."
   ]
  },
  {
   "cell_type": "code",
   "execution_count": 2,
   "metadata": {},
   "outputs": [],
   "source": [
    "gestures=[\"rock\",\"paper\",\"scissors\"]"
   ]
  },
  {
   "cell_type": "markdown",
   "metadata": {},
   "source": [
    "#### 3. Create a variable called `n_rounds` to store the maximum number of rounds to play in a game. \n",
    "Remember that the number of rounds must be odd: 1, 3, 5, ..."
   ]
  },
  {
   "cell_type": "code",
   "execution_count": 3,
   "metadata": {},
   "outputs": [
    {
     "name": "stdout",
     "output_type": "stream",
     "text": [
      "10\n"
     ]
    }
   ],
   "source": [
    "n_rounds=10\n",
    "\n",
    "print(n_rounds)\n"
   ]
  },
  {
   "cell_type": "markdown",
   "metadata": {},
   "source": [
    "#### 4. Create a variable called `rounds_to_win` to store the number of rounds that a player must win to win the game.\n",
    "**Hint**: the value stored in `rounds_to_win` depends on the value of `n_rounds`. "
   ]
  },
  {
   "cell_type": "code",
   "execution_count": 4,
   "metadata": {},
   "outputs": [
    {
     "name": "stdout",
     "output_type": "stream",
     "text": [
      "6.0\n"
     ]
    }
   ],
   "source": [
    "rounds_to_win = (n_rounds / 2) + 1\n",
    "print(rounds_to_win)"
   ]
  },
  {
   "cell_type": "markdown",
   "metadata": {},
   "source": [
    "#### 5. Create two variables to store the number of rounds that the computer and the player have won. Call these variables `cpu_score` and `player_score`."
   ]
  },
  {
   "cell_type": "code",
   "execution_count": 5,
   "metadata": {},
   "outputs": [],
   "source": [
    "cpu_score=0\n",
    "player_score=0\n"
   ]
  },
  {
   "cell_type": "markdown",
   "metadata": {},
   "source": [
    "#### 6. Define a function that randomly returns one of the 3 gesture options.\n",
    "You will use this function to simulate the gesture choice of the computer. "
   ]
  },
  {
   "cell_type": "code",
   "execution_count": 6,
   "metadata": {},
   "outputs": [
    {
     "data": {
      "text/plain": [
       "'paper'"
      ]
     },
     "execution_count": 6,
     "metadata": {},
     "output_type": "execute_result"
    }
   ],
   "source": [
    "from random import randint\n",
    "\n",
    "def f_option_compu():\n",
    "    return gestures[randint(0,2)]\n",
    "\n",
    "f_option_compu()"
   ]
  },
  {
   "cell_type": "markdown",
   "metadata": {},
   "source": [
    "#### 7. Define a function that asks the player which is the gesture he or she wants to show: 'rock', 'paper' or 'scissors'.\n",
    "The player should only be allowed to choose one of the 3 gesture options. If the player's choice is not rock, paper or scissors, keep asking until it is."
   ]
  },
  {
   "cell_type": "code",
   "execution_count": 7,
   "metadata": {},
   "outputs": [
    {
     "name": "stdout",
     "output_type": "stream",
     "text": [
      "Please select one gesture: Rock, Paper or Scissors\n",
      "Option: rock\n",
      "Good choise and good luck\n"
     ]
    }
   ],
   "source": [
    "\n",
    "def f_option_player():\n",
    "    option = \"\"\n",
    "    \n",
    "    while (option != \"rock\" and option != \"paper\" and option != \"scissors\"):\n",
    "        print(\"Please select one gesture: Rock, Paper or Scissors\")\n",
    "        option = input(\"Option: \")\n",
    "    return option\n",
    "option_player = f_option_player()        \n",
    "print(\"Good choise and good luck\")\n"
   ]
  },
  {
   "cell_type": "markdown",
   "metadata": {},
   "source": [
    "#### 8. Define a function that checks who won a round. \n",
    "The function should return 0 if there is a tie, 1 if the computer wins and 2 if the player wins."
   ]
  },
  {
   "cell_type": "code",
   "execution_count": 8,
   "metadata": {},
   "outputs": [
    {
     "name": "stdout",
     "output_type": "stream",
     "text": [
      "Please select one gesture: Rock, Paper or Scissors\n",
      "Option: paper\n"
     ]
    },
    {
     "data": {
      "text/plain": [
       "2"
      ]
     },
     "execution_count": 8,
     "metadata": {},
     "output_type": "execute_result"
    }
   ],
   "source": [
    "def f_check_winner(compu, player):\n",
    "    result = 0\n",
    "    if compu == player:\n",
    "        result = 0\n",
    "    elif compu == \"rock\":\n",
    "            if player == \"paper\":\n",
    "                result = 2\n",
    "            else:\n",
    "                result = 1\n",
    "    elif compu == \"paper\":\n",
    "            if player ==\"scissors\":\n",
    "                result = 2\n",
    "            else:\n",
    "                result = 1\n",
    "    elif compu == \"scissors\":\n",
    "            if player == \"rock\":\n",
    "                player = 2\n",
    "            else:\n",
    "                result = 1\n",
    "    return result\n",
    "            \n",
    "option_compu = f_option_compu()\n",
    "option_player = f_option_player()\n",
    "\n",
    "f_check_winner(option_compu, option_player)   \n",
    "\n"
   ]
  },
  {
   "cell_type": "markdown",
   "metadata": {},
   "source": [
    "#### 9. Define a function that prints the choice of the computer, the choice of the player and a message that announces who won the current round. \n",
    "You should also use this function to update the variables that count the number of rounds that the computer and the player have won. The score of the winner increases by one point. If there is a tie, the score does not increase."
   ]
  },
  {
   "cell_type": "code",
   "execution_count": 9,
   "metadata": {},
   "outputs": [
    {
     "name": "stdout",
     "output_type": "stream",
     "text": [
      "Please select one gesture: Rock, Paper or Scissors\n",
      "Option: rock\n",
      "Computer option:  rock\n",
      "Player option:  rock\n",
      "It's a Tie! The score does not increase\n",
      "0 0\n"
     ]
    }
   ],
   "source": [
    "def f_evaluate(compu, player):\n",
    "    print(\"Computer option: \" , compu)\n",
    "    print(\"Player option: \" , player)\n",
    "    \n",
    "    result = f_check_winner(compu, player)\n",
    "    \n",
    "    if result == 1:\n",
    "        print(\"The Computer Won!\")\n",
    "        #cpu_score = cpu_score + 1\n",
    "    elif result == 2:\n",
    "        print(\"The Player Won!\")\n",
    "        #player_score = player_score + 1\n",
    "    elif result == 0:\n",
    "        print(\"It's a Tie! The score does not increase\")\n",
    "    return result\n",
    "        \n",
    "    \n",
    "cpu_score = 0\n",
    "player_score = 0\n",
    "\n",
    "compu = f_option_compu()\n",
    "player = f_option_player()\n",
    "\n",
    "result = f_evaluate(compu, player)\n",
    "if result == 1:\n",
    "    cpu_score = cpu_score + 1\n",
    "elif result == 2:\n",
    "    player_score = player_score + 1\n",
    "print(cpu_score, player_score)    \n",
    "\n",
    "\n",
    "#### 10. Now it's time to code the execution of the game using the functions and variables you defined above. \n",
    "\n",
    "#First, create a loop structure that repeats while no player reaches the minimum score necessary to win and the number of rounds is less than the maximum number of rounds to play in a game.  \n",
    "\n",
    "#Inside the loop, use the functions and variables above to create the execution of a round: ask for the player's choice, generate the random choice of the computer, show the round results, update the scores, etc. "
   ]
  },
  {
   "cell_type": "code",
   "execution_count": 14,
   "metadata": {},
   "outputs": [
    {
     "name": "stdout",
     "output_type": "stream",
     "text": [
      "Please select one gesture: Rock, Paper or Scissors\n",
      "Option: paper\n",
      "Computer option:  scissors\n",
      "Player option:  paper\n",
      "The Computer Won!\n",
      "Score : 0 - 1\n",
      "Please select one gesture: Rock, Paper or Scissors\n",
      "Option: rock\n",
      "Computer option:  scissors\n",
      "Player option:  rock\n",
      "It's a Tie! The score does not increase\n",
      "Score : 0 - 1\n",
      "Please select one gesture: Rock, Paper or Scissors\n",
      "Option: paper\n",
      "Computer option:  paper\n",
      "Player option:  paper\n",
      "It's a Tie! The score does not increase\n",
      "Score : 0 - 1\n",
      "Please select one gesture: Rock, Paper or Scissors\n",
      "Option: rock\n",
      "Computer option:  rock\n",
      "Player option:  rock\n",
      "It's a Tie! The score does not increase\n",
      "Score : 0 - 1\n",
      "The Computer Won, Good luck next time!\n"
     ]
    }
   ],
   "source": [
    "cpu_score = 0\n",
    "player_score = 0\n",
    "n_rounds= 5\n",
    "rounds_to_win = (n_rounds / 2) + 1\n",
    "rounds=0\n",
    "\n",
    "while (player_score < rounds_to_win and  rounds < (n_rounds - 1)) :\n",
    "    rounds+= 1\n",
    "    option_compu = f_option_compu()\n",
    "    option_player = f_option_player()\n",
    "    result_round= f_evaluate(option_compu, option_player) \n",
    "    \n",
    "    if result_round == 1:\n",
    "        cpu_score += 1\n",
    "    elif result_round == 2:\n",
    "        player_score += 1\n",
    "    print(\"Score :\", player_score,\"-\", cpu_score)\n",
    "\n",
    "\n",
    "    \n",
    "\n"
   ]
  },
  {
   "cell_type": "markdown",
   "metadata": {},
   "source": [
    "#### 11. Print the winner of the game based on who won more rounds.\n",
    "Remember that the game might be tied. "
   ]
  },
  {
   "cell_type": "code",
   "execution_count": 18,
   "metadata": {},
   "outputs": [
    {
     "name": "stdout",
     "output_type": "stream",
     "text": [
      "The Computer Won, Good luck next time! The cpu_score is: 1\n"
     ]
    }
   ],
   "source": [
    "if player_score > cpu_score:\n",
    "    print(\"The Player Won, Congratulations!!!\", player_computer)\n",
    "elif player_score < cpu_score:\n",
    "    print(\"The Computer Won, Good luck next time!\",\"The cpu_score is:\",cpu_score)\n",
    "else :\n",
    "    print(\"It's a Tie!\")"
   ]
  },
  {
   "cell_type": "markdown",
   "metadata": {},
   "source": [
    "# Bonus: Rock, Paper, Scissors, Lizard & Spock\n",
    "![](images/rpsls.jpg)\n",
    "\n",
    "In this challenge, you need to improve the previous game by adding two new options. To know more about the rules of the improved version of rock, paper, scissors, check this [link](http://www.samkass.com/theories/RPSSL.html). \n",
    "\n",
    "In addition, you will also need to improve how the game interacts with the player: the number of rounds to play, which must be an odd number, will be requested to the user until a valid number is entered. Define a new function to make that request.\n",
    "\n",
    "**Hint**: Try to reuse the code that you already coded in the previous challenge. If your code is efficient, this bonus will only consist of simple modifications to the original game."
   ]
  },
  {
   "cell_type": "code",
   "execution_count": null,
   "metadata": {},
   "outputs": [],
   "source": []
  }
 ],
 "metadata": {
  "kernelspec": {
   "display_name": "Python 3",
   "language": "python",
   "name": "python3"
  },
  "language_info": {
   "codemirror_mode": {
    "name": "ipython",
    "version": 3
   },
   "file_extension": ".py",
   "mimetype": "text/x-python",
   "name": "python",
   "nbconvert_exporter": "python",
   "pygments_lexer": "ipython3",
   "version": "3.7.6"
  }
 },
 "nbformat": 4,
 "nbformat_minor": 2
}
