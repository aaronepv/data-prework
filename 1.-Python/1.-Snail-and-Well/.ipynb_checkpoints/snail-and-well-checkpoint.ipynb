{
 "cells": [
  {
   "cell_type": "markdown",
   "metadata": {},
   "source": [
    "<img src=\"https://bit.ly/2VnXWr2\" width=\"100\" align=\"left\">"
   ]
  },
  {
   "cell_type": "markdown",
   "metadata": {},
   "source": [
    "# The Snail and the Well\n",
    "\n",
    "A snail falls at the bottom of a 125 cm well. Each day the snail rises 30 cm. But at night, while sleeping, slides 20 cm because the walls are wet. How many days does it take for the snail to escape the well?\n",
    "\n",
    "**Hint**: The snail gets out of the well when it surpasses the 125cm of height.\n",
    "\n",
    "## Tools\n",
    "\n",
    "1. Loop: **while**\n",
    "2. Conditional statements: **if-else**\n",
    "3. Function: **print()**\n",
    "\n",
    "## Tasks\n",
    "\n",
    "#### 1. Assign the challenge data to variables with representative names: `well_height`, `daily_distance`, `nightly_distance` and `snail_position`."
   ]
  },
  {
   "cell_type": "code",
   "execution_count": 1,
   "metadata": {},
   "outputs": [],
   "source": [
    "well_height= 125\n",
    "daily_distance= 30\n",
    "nightly_distance= 20\n",
    "snail_position= 0"
   ]
  },
  {
   "cell_type": "markdown",
   "metadata": {},
   "source": [
    "#### 2. Create a variable `days` to keep count of the days that pass until the snail escapes the well. "
   ]
  },
  {
   "cell_type": "code",
   "execution_count": 2,
   "metadata": {},
   "outputs": [],
   "source": [
    "days= 1"
   ]
  },
  {
   "cell_type": "markdown",
   "metadata": {},
   "source": [
    "#### 3. Find the solution to the challenge using the variables defined above. "
   ]
  },
  {
   "cell_type": "code",
   "execution_count": 3,
   "metadata": {},
   "outputs": [
    {
     "name": "stdout",
     "output_type": "stream",
     "text": [
      "the snail has started to walk to the top of the well\n",
      "the snail has walked 10 cm on day 1\n",
      "the snail has walked 10 cm on day 2\n",
      "the snail has walked 10 cm on day 3\n",
      "the snail has walked 10 cm on day 4\n",
      "the snail has walked 10 cm on day 5\n",
      "the snail has walked 10 cm on day 6\n",
      "the snail has walked 10 cm on day 7\n",
      "the snail has walked 10 cm on day 8\n",
      "the snail has walked 10 cm on day 9\n",
      "the snail has walked 10 cm on day 10\n",
      "the snail has walked 10 cm on day 11\n",
      "the snail has walked 10 cm on day 12\n",
      "the snail has walked 10 cm on day 13\n",
      "The snail gets out of the well when it surpasses the 125cm of height in 13 days\n"
     ]
    }
   ],
   "source": [
    "print(\"the snail has started to walk to the top of the well\")\n",
    "while snail_position <= well_height:\n",
    "    if snail_position < well_height:\n",
    "        snail_position =snail_position +10\n",
    "        print(\"the snail has walked 10 cm on day\", days)\n",
    "    if snail_position < well_height:\n",
    "        days= days +1\n",
    "    else:\n",
    "        print(\"The snail gets out of the well when it surpasses the 125cm of height in\", days,\"days\")"
   ]
  },
  {
   "cell_type": "markdown",
   "metadata": {},
   "source": [
    "#### 4. Print the solution."
   ]
  },
  {
   "cell_type": "code",
   "execution_count": null,
   "metadata": {},
   "outputs": [],
   "source": [
    "\n",
    "\n",
    "the snail has started to walk to the top of the well\n",
    "the snail has walked 10 cm on day 1\n",
    "the snail has walked 10 cm on day 2\n",
    "the snail has walked 10 cm on day 3\n",
    "the snail has walked 10 cm on day 4\n",
    "the snail has walked 10 cm on day 5\n",
    "the snail has walked 10 cm on day 6\n",
    "the snail has walked 10 cm on day 7\n",
    "the snail has walked 10 cm on day 8\n",
    "the snail has walked 10 cm on day 9\n",
    "the snail has walked 10 cm on day 10\n",
    "the snail has walked 10 cm on day 11\n",
    "the snail has walked 10 cm on day 12\n",
    "the snail has walked 10 cm on day 13\n",
    "The snail gets out of the well when it surpasses the 125cm of height in 13 days"
   ]
  },
  {
   "cell_type": "markdown",
   "metadata": {},
   "source": [
    "## Bonus\n",
    "The distance traveled by the snail each day is now defined by a list.\n",
    "```\n",
    "advance_cm = [30, 21, 33, 77, 44, 45, 23, 45, 12, 34, 55]\n",
    "```\n",
    "On the first day, the snail rises 30cm but during the night it slides 20cm. On the second day, the snail rises 21cm but during the night it slides 20cm, and so on. \n",
    "\n",
    "#### 1. How many days does it take for the snail to escape the well?\n",
    "Follow the same guidelines as in the previous challenge.\n",
    "\n",
    "**Hint**: Remember that the snail gets out of the well when it surpasses the 125cm of height."
   ]
  },
  {
   "cell_type": "code",
   "execution_count": 8,
   "metadata": {},
   "outputs": [
    {
     "name": "stdout",
     "output_type": "stream",
     "text": [
      "number of days that it is take to the snail to escape from the well 11 days\n"
     ]
    }
   ],
   "source": [
    "advance_cm = [30, 21, 33, 77, 44, 45, 23, 45, 12, 34, 55]\n",
    "print(\"number of days that it is take to the snail to escape from the well\",len(advance_cm),\"days\")\n"
   ]
  },
  {
   "cell_type": "markdown",
   "metadata": {},
   "source": [
    "#### 2. What is its maximum displacement in one day? And its minimum? Calculate the displacement using only the travel distance of the days used to get out of the well. \n",
    "**Hint**: Remember that displacement means the total distance risen taking into account that the snail slides at night.  "
   ]
  },
  {
   "cell_type": "code",
   "execution_count": 13,
   "metadata": {},
   "outputs": [
    {
     "name": "stdout",
     "output_type": "stream",
     "text": [
      "the maximum displacement in a day is 77\n",
      "minimun displacement in a day is 12\n",
      "the total cm that the snail move in the well 419\n"
     ]
    }
   ],
   "source": [
    "print (\"the maximum displacement in a day is\", max(advance_cm))\n",
    "print (\"minimun displacement in a day is\", min(advance_cm)) \n",
    "print (\"the total cm that the snail move in the well\",sum(advance_cm))"
   ]
  },
  {
   "cell_type": "markdown",
   "metadata": {},
   "source": [
    "#### 3. What is its average progress? Take into account the snail slides at night."
   ]
  },
  {
   "cell_type": "code",
   "execution_count": 14,
   "metadata": {},
   "outputs": [
    {
     "name": "stdout",
     "output_type": "stream",
     "text": [
      "It took the snail 38.09090909090909 cm of average per day to get the top of the well\n"
     ]
    }
   ],
   "source": [
    "print (\"It took the snail\", sum(advance_cm)/len(advance_cm),\"cm of average per day to get the top of the well\")"
   ]
  },
  {
   "cell_type": "markdown",
   "metadata": {},
   "source": [
    "#### 4. What is the standard deviation of its displacement? Take into account the snail slides at night."
   ]
  },
  {
   "cell_type": "code",
   "execution_count": null,
   "metadata": {},
   "outputs": [],
   "source": [
    "s= 17.99 is the standard deviation on the displacement of the snail "
   ]
  }
 ],
 "metadata": {
  "kernelspec": {
   "display_name": "Python 3",
   "language": "python",
   "name": "python3"
  },
  "language_info": {
   "codemirror_mode": {
    "name": "ipython",
    "version": 3
   },
   "file_extension": ".py",
   "mimetype": "text/x-python",
   "name": "python",
   "nbconvert_exporter": "python",
   "pygments_lexer": "ipython3",
   "version": "3.7.6"
  }
 },
 "nbformat": 4,
 "nbformat_minor": 2
}
