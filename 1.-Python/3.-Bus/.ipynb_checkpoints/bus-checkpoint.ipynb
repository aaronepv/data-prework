{
 "cells": [
  {
   "cell_type": "markdown",
   "metadata": {},
   "source": [
    "<img src=\"https://bit.ly/2VnXWr2\" width=\"100\" align=\"left\">"
   ]
  },
  {
   "cell_type": "markdown",
   "metadata": {},
   "source": [
    "# Bus\n",
    "\n",
    "This bus has a passenger entry and exit control system to monitor the number of occupants it carries and thus detect when there are too many.\n",
    "\n",
    "At each stop, the entry and exit of passengers is represented by a tuple consisting of two integer numbers.\n",
    "```\n",
    "bus_stop = (in, out)\n",
    "```\n",
    "The succession of stops is represented by a list of these tuples.\n",
    "```\n",
    "stops = [(in1, out1), (in2, out2), (in3, out3), (in4, out4)]\n",
    "```\n",
    "\n",
    "## Tools\n",
    "You don't necessarily need to use all the tools. Maybe you opt to use some of them or completely different ones, they are given to help you shape the exercise. Programming exercises can be solved in many different ways.\n",
    "* Data structures: **lists, tuples**\n",
    "* Loop: **while/for loops**\n",
    "* Functions: **min, max, len**\n",
    "\n",
    "## Tasks"
   ]
  },
  {
   "cell_type": "code",
   "execution_count": 26,
   "metadata": {},
   "outputs": [],
   "source": [
    "# Variables\n",
    "stops = [(10, 0), (4, 1), (3, 5), (3, 4), (5, 1), (1, 5), (5, 8), (4, 6), (2, 3)]\n"
   ]
  },
  {
   "cell_type": "markdown",
   "metadata": {},
   "source": [
    "#### 1. Calculate the number of stops."
   ]
  },
  {
   "cell_type": "code",
   "execution_count": 25,
   "metadata": {},
   "outputs": [
    {
     "name": "stdout",
     "output_type": "stream",
     "text": [
      "9\n"
     ]
    }
   ],
   "source": [
    "print (len(stops))"
   ]
  },
  {
   "cell_type": "markdown",
   "metadata": {},
   "source": [
    "#### 2. Assign to a variable a list whose elements are the number of passengers at each stop (in-out).\n",
    "Each item depends on the previous item in the list + in - out."
   ]
  },
  {
   "cell_type": "code",
   "execution_count": 44,
   "metadata": {},
   "outputs": [
    {
     "name": "stdout",
     "output_type": "stream",
     "text": [
      "Number of passengers per stop:  [10, 3, -2, -1, 4, -4, -3, -2, -1]\n",
      "4\n"
     ]
    }
   ],
   "source": [
    "number_p=[]\n",
    "for key, val in stops:\n",
    "    a=key - val\n",
    "    number_p.append(a)     \n",
    "print(\"Number of passengers per stop: \",number_p)\n",
    "print(sum(number_p))"
   ]
  },
  {
   "cell_type": "markdown",
   "metadata": {},
   "source": [
    "#### 3. Find the maximum occupation of the bus."
   ]
  },
  {
   "cell_type": "code",
   "execution_count": 55,
   "metadata": {},
   "outputs": [
    {
     "name": "stdout",
     "output_type": "stream",
     "text": [
      "[10, 4, 3, 3, 5, 1, 5, 4, 2]\n",
      "The total number of passagers to got into the bus in all stops 37\n",
      "The average passengers IN per stop 4.111111111111111\n",
      "The maximum occupation per stop is  10 passengers\n",
      "[0, 1, 5, 4, 1, 5, 8, 6, 3]\n",
      "The total number of passengers to got OUT of the bus in all stops 33\n",
      "The average passengers OUT per stop 3.6666666666666665\n",
      "The number of passengers reamin in the buss 4\n",
      "The total average of passengers to get IN and OUT in the all stops 7.777777777777778\n"
     ]
    }
   ],
   "source": [
    "for i in range(1):\n",
    "    p_in=[]\n",
    "    for j in stops:\n",
    "        p_in.append(j[i])\n",
    "print(p_in)\n",
    "\n",
    "print(\"The total number of passagers to got into the bus in all stops\",sum(p_in))\n",
    "print(\"The average passengers IN per stop\",sum(p_in)/len(p_in))\n",
    "print(\"The maximum occupation per stop is \",max(p_in), \"passengers\")\n",
    "\n",
    "for i in range(2):\n",
    "    p_out=[]\n",
    "    for j in stops:\n",
    "        p_out.append(j[i])\n",
    "print(p_out)\n",
    "\n",
    "print(\"The total number of passengers to got OUT of the bus in all stops\", sum(p_out))\n",
    "print(\"The average passengers OUT per stop\",sum(p_out)/len(p_out))\n",
    "print(\"The number of passengers reamin in the buss\", sum(p_in)-sum(p_out))\n",
    "print(\"The total average of passengers to get IN and OUT in the all stops\", (sum(p_in) + sum(p_out))/len(p_in))\n"
   ]
  },
  {
   "cell_type": "markdown",
   "metadata": {},
   "source": [
    "#### 4. Calculate the average occupation. And the standard deviation."
   ]
  },
  {
   "cell_type": "code",
   "execution_count": 63,
   "metadata": {},
   "outputs": [
    {
     "name": "stdout",
     "output_type": "stream",
     "text": [
      "[37, 33]\n",
      "2.8284271247461903\n",
      " The standard deviation of the all movement of passengers 70 is 2.8284271247461903\n",
      " the standard deviation of the people to get IN the buss in all the stops [10, 4, 3, 3, 5, 1, 5, 4, 2] is 2.5712081034235856\n",
      " the standard deviation of the people to get OUT the buss in all the stops [0, 1, 5, 4, 1, 5, 8, 6, 3] is 2.6457513110645907\n"
     ]
    }
   ],
   "source": [
    "import statistics\n",
    "sd_p=[sum(p_in) , sum(p_out)]\n",
    "print(sd_p)\n",
    "print(statistics.stdev(sd_p))\n",
    "\n",
    "print(\" The standard deviation of the all movement of passengers\", (sum(p_in)+sum(p_out)), \"is\",statistics.stdev(sd_p))\n",
    "print(\" the standard deviation of the people to get IN the buss in all the stops\", p_in,\"is\", statistics.stdev(p_in))\n",
    "print(\" the standard deviation of the people to get OUT the buss in all the stops\", p_out,\"is\",statistics.stdev(p_out))"
   ]
  }
 ],
 "metadata": {
  "kernelspec": {
   "display_name": "Python 3",
   "language": "python",
   "name": "python3"
  },
  "language_info": {
   "codemirror_mode": {
    "name": "ipython",
    "version": 3
   },
   "file_extension": ".py",
   "mimetype": "text/x-python",
   "name": "python",
   "nbconvert_exporter": "python",
   "pygments_lexer": "ipython3",
   "version": "3.7.6"
  }
 },
 "nbformat": 4,
 "nbformat_minor": 2
}
